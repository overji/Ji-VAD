{
 "cells": [
  {
   "cell_type": "code",
   "execution_count": null,
   "id": "c7ceaca0",
   "metadata": {},
   "outputs": [],
   "source": [
    "from modelscope import snapshot_download\n",
    "snapshot_download('iic/CosyVoice2-0.5B', local_dir='/obs/xuke/cosyvoicepretrained_models/CosyVoice2-0.5B')\n",
    "snapshot_download('iic/CosyVoice-300M', local_dir='/obs/xuke/cosyvoicepretrained_models/CosyVoice-300M')\n",
    "snapshot_download('iic/CosyVoice-300M-SFT', local_dir='/obs/xuke/cosyvoicepretrained_models/CosyVoice-300M-SFT')\n",
    "snapshot_download('iic/CosyVoice-300M-Instruct', local_dir='/obs/xuke/cosyvoicepretrained_models/CosyVoice-300M-Instruct')\n",
    "snapshot_download('iic/CosyVoice-ttsfrd', local_dir='/obs/xuke/cosyvoicepretrained_models/CosyVoice-ttsfrd')"
   ]
  },
  {
   "cell_type": "code",
   "execution_count": null,
   "id": "7d0742f0",
   "metadata": {},
   "outputs": [],
   "source": [
    "import sys\n",
    "sys.path.append('third_party/Matcha-TTS')\n",
    "from cosyvoice.cli.cosyvoice import CosyVoice, CosyVoice2\n",
    "from cosyvoice.utils.file_utils import load_wav\n",
    "import torchaudio\n",
    "import json\n",
    "from datasets import load_from_disk"
   ]
  },
  {
   "cell_type": "code",
   "execution_count": null,
   "id": "f6b2eaf2",
   "metadata": {},
   "outputs": [],
   "source": [
    "import os\n",
    "os.environ[\"MODELSCOPE_CACHE\"] = \"/obs/xuke/modelscope_cache\"\n",
    "cosyvoice = CosyVoice2('/obs/xuke/cosyvoicepretrained_models/CosyVoice2-0.5B', load_jit=False, load_trt=False, load_vllm=False, fp16=False)\n"
   ]
  },
  {
   "cell_type": "code",
   "execution_count": null,
   "id": "ca22d80e",
   "metadata": {},
   "outputs": [],
   "source": [
    "# 加载说话人\n",
    "speaker_base_path = \"/obs/xuke/audio_source\"\n",
    "with open(f\"{speaker_base_path}/real_audio.json\",\"r\",encoding=\"utf-8\") as f:\n",
    "    real_audio = json.load(f)"
   ]
  },
  {
   "cell_type": "markdown",
   "id": "f0b7e460",
   "metadata": {},
   "source": [
    "## 加载数据集"
   ]
  },
  {
   "cell_type": "code",
   "execution_count": null,
   "id": "83d4e651",
   "metadata": {},
   "outputs": [],
   "source": [
    "# ds = load_from_disk(\"/obs/xuke/smart-turn/llm_gen_topic_cn\")\n",
    "seg_ds = load_from_disk(\"/obs/xuke/smart-turn/test_seg_tts_50\")"
   ]
  },
  {
   "cell_type": "code",
   "execution_count": null,
   "id": "a6200d97",
   "metadata": {},
   "outputs": [],
   "source": [
    "import random\n",
    "\n",
    "save_path = \"/obs/xuke/cosyvoice/outputs\"\n",
    "for index,item in enumerate(seg_ds):\n",
    "    speaker = random.choice(real_audio)\n",
    "    prompt_speech_16k = load_wav(f\"{speaker_base_path}/{speaker['filename']}\", 16000)\n",
    "    if index > 50:\n",
    "        break\n",
    "    seg_text = item['segmented']\n",
    "    ori_text = item['original']\n",
    "    print(f\"{index}\")\n",
    "    for i, j in enumerate(cosyvoice.inference_zero_shot(seg_text, speaker[\"text\"], prompt_speech_16k, stream=False)):\n",
    "        torchaudio.save(f'{save_path}/zero_shot_{index}_{i}_seg.wav', j['tts_speech'], cosyvoice.sample_rate)\n",
    "    for i, j in enumerate(cosyvoice.inference_zero_shot(ori_text, speaker[\"text\"], prompt_speech_16k, stream=False)):\n",
    "        torchaudio.save(f'{save_path}/zero_shot_{index}_{i}_ori.wav', j['tts_speech'], cosyvoice.sample_rate)"
   ]
  }
 ],
 "metadata": {
  "kernelspec": {
   "display_name": "cosyvoice",
   "language": "python",
   "name": "python3"
  },
  "language_info": {
   "codemirror_mode": {
    "name": "ipython",
    "version": 3
   },
   "file_extension": ".py",
   "mimetype": "text/x-python",
   "name": "python",
   "nbconvert_exporter": "python",
   "pygments_lexer": "ipython3",
   "version": "3.10.18"
  }
 },
 "nbformat": 4,
 "nbformat_minor": 5
}
